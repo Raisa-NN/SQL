{
 "cells": [
  {
   "cell_type": "markdown",
   "id": "5dd3283a",
   "metadata": {},
   "source": [
    "# Analyzing Academic Performance and the Factors Possibly Affecting It"
   ]
  },
  {
   "cell_type": "markdown",
   "id": "390cb905",
   "metadata": {},
   "source": [
    "                                        Report By Raisa Nkweteyim"
   ]
  },
  {
   "cell_type": "markdown",
   "id": "7691a409",
   "metadata": {},
   "source": [
    "Four csv files were received containing data about students' academic performance, student family details, student personal details and student academic information. I uploaded these files unto **SQLite** and joined them to create one reporting table with all the columns included.<br>\n",
    "In order to create this report and embed sql code in Jupyter Notebook, I used **'DB Browser for SQLite'** to create a database containing 4 tables representing the 4 csv files. I also need to import the sqlite3 and pandas packages for this work.<br>\n",
    "I created multiple **pivot tables** and generated the graphs in **Google Sheets**."
   ]
  },
  {
   "cell_type": "markdown",
   "id": "235d95dd",
   "metadata": {},
   "source": [
    "The dataset for this work was provided by the EntryLevel team (https://www.entrylevel.net/)."
   ]
  },
  {
   "cell_type": "code",
   "execution_count": 1,
   "id": "8cad044d",
   "metadata": {},
   "outputs": [],
   "source": [
    "# Importing modules\n",
    "import pandas as pd\n",
    "import sqlite3 as sql"
   ]
  },
  {
   "cell_type": "code",
   "execution_count": 2,
   "id": "c3d63fe4",
   "metadata": {},
   "outputs": [],
   "source": [
    "# Creating connection to database file\n",
    "database = 'academic_performance.db'\n",
    "connection = sql.connect(database)"
   ]
  },
  {
   "cell_type": "markdown",
   "id": "161aef31",
   "metadata": {},
   "source": [
    "##### Creating the reporting table"
   ]
  },
  {
   "cell_type": "code",
   "execution_count": null,
   "id": "f8573a00",
   "metadata": {},
   "outputs": [],
   "source": [
    "# Joining the 4 tables to make one large reports table and creating new table 'reports_student_colleges'\n",
    "query = '''\n",
    "CREATE TABLE reports_student_colleges AS\n",
    "SELECT *\n",
    "FROM student_academic_info AS sai\n",
    "JOIN county_info AS ci\n",
    "ON sai.id = ci.id\n",
    "JOIN student_family_details AS sfd\n",
    "ON ci.id = sfd.id\n",
    "JOIN student_personal_details AS spd\n",
    "ON sfd.id = spd.id\n",
    "'''\n",
    "df = pd.read_sql_query(query, connection)\n",
    "df.head()\n",
    "\n",
    "'''NB: If block of code is ran more than once, an error occurs because the reporting table (reports_student_colleges) has\n",
    "already been created'''"
   ]
  },
  {
   "cell_type": "markdown",
   "id": "b7e53654",
   "metadata": {},
   "source": [
    "*Definitions for some of the column names can be found below:*\n",
    "\n",
    "gender: :factor indicating gender.<br>ethnicity: factor indicating ethnicity (African-American, Hispanic, Asian or other).<br>academic_score: student’s academic score throughout high school and college\n",
    "<br>student_tuition: cost of tuition for the student\n",
    "<br>education: the years of education the student has received\n",
    "<br>fcollege: factor. Is the father a college graduate?\n",
    "<br>mcollege: factor. Is the mother a college graduate?\n",
    "<br>home: factor. Does the family own their home?\n",
    "<br>urban: factor. Is the school in an urban area?\n",
    "<br>unemp: county unemployment rate in 2020\n",
    "<br>income: high or low income household based on county average\n",
    "<br>wage: state hourly wage in manufacturing in 1980\n",
    "<br>distance: distance from 4-year college (in 10 miles)\n",
    "<br>region: factor indicating region (West, East or other)\n",
    "<br>avg_county_tuition: average state 4-year college tuition (in 1000 USD)"
   ]
  },
  {
   "cell_type": "markdown",
   "id": "bf2b0e2d",
   "metadata": {},
   "source": [
    "I would like to understand the factors affecting student's academic score. \n",
    "I will divide the features into four main groups: **physiological information** which includes gender and ethnicity; \n",
    "**location** which includes the region where student lives, whether the region is urban, and the \n",
    "distance from a 4-year college; **wealth** which includes student tuition, if family owns a home, if family \n",
    "has high income or not; and **education** which includes if the father or mother had graduated college \n",
    "and how many years of education the student has received."
   ]
  },
  {
   "cell_type": "markdown",
   "id": "368ecee4",
   "metadata": {},
   "source": [
    "##### Building new tables of key metrics using sql and creating charts using pivot tables (see attached Google Sheets document and SQL file)"
   ]
  },
  {
   "cell_type": "markdown",
   "id": "b75e358f",
   "metadata": {},
   "source": [
    "###### Physiological Information"
   ]
  },
  {
   "cell_type": "code",
   "execution_count": 4,
   "id": "5e49f45e",
   "metadata": {},
   "outputs": [
    {
     "data": {
      "text/html": [
       "<div>\n",
       "<style scoped>\n",
       "    .dataframe tbody tr th:only-of-type {\n",
       "        vertical-align: middle;\n",
       "    }\n",
       "\n",
       "    .dataframe tbody tr th {\n",
       "        vertical-align: top;\n",
       "    }\n",
       "\n",
       "    .dataframe thead th {\n",
       "        text-align: right;\n",
       "    }\n",
       "</style>\n",
       "<table border=\"1\" class=\"dataframe\">\n",
       "  <thead>\n",
       "    <tr style=\"text-align: right;\">\n",
       "      <th></th>\n",
       "      <th>gender</th>\n",
       "      <th>COUNT(gender)</th>\n",
       "      <th>AVG(academic_score)</th>\n",
       "    </tr>\n",
       "  </thead>\n",
       "  <tbody>\n",
       "    <tr>\n",
       "      <th>0</th>\n",
       "      <td>female</td>\n",
       "      <td>6293</td>\n",
       "      <td>51.011417</td>\n",
       "    </tr>\n",
       "    <tr>\n",
       "      <th>1</th>\n",
       "      <td>male</td>\n",
       "      <td>5505</td>\n",
       "      <td>50.697005</td>\n",
       "    </tr>\n",
       "  </tbody>\n",
       "</table>\n",
       "</div>"
      ],
      "text/plain": [
       "   gender  COUNT(gender)  AVG(academic_score)\n",
       "0  female           6293            51.011417\n",
       "1    male           5505            50.697005"
      ]
     },
     "execution_count": 4,
     "metadata": {},
     "output_type": "execute_result"
    }
   ],
   "source": [
    "# Finding out the average academic score by gender\n",
    "query1 = '''\n",
    "SELECT gender, COUNT(gender), AVG(academic_score)\n",
    "FROM reports_student_colleges\n",
    "GROUP BY gender\n",
    "'''\n",
    "df = pd.read_sql_query(query1, connection)\n",
    "df"
   ]
  },
  {
   "cell_type": "markdown",
   "id": "86ff350d",
   "metadata": {},
   "source": [
    "Around the same average score between genders"
   ]
  },
  {
   "cell_type": "code",
   "execution_count": 5,
   "id": "b7a8d118",
   "metadata": {},
   "outputs": [
    {
     "data": {
      "text/html": [
       "<div>\n",
       "<style scoped>\n",
       "    .dataframe tbody tr th:only-of-type {\n",
       "        vertical-align: middle;\n",
       "    }\n",
       "\n",
       "    .dataframe tbody tr th {\n",
       "        vertical-align: top;\n",
       "    }\n",
       "\n",
       "    .dataframe thead th {\n",
       "        text-align: right;\n",
       "    }\n",
       "</style>\n",
       "<table border=\"1\" class=\"dataframe\">\n",
       "  <thead>\n",
       "    <tr style=\"text-align: right;\">\n",
       "      <th></th>\n",
       "      <th>ethnicity</th>\n",
       "      <th>COUNT(ethnicity)</th>\n",
       "      <th>AVG(academic_score)</th>\n",
       "    </tr>\n",
       "  </thead>\n",
       "  <tbody>\n",
       "    <tr>\n",
       "      <th>0</th>\n",
       "      <td>Asian</td>\n",
       "      <td>3043</td>\n",
       "      <td>50.737591</td>\n",
       "    </tr>\n",
       "    <tr>\n",
       "      <th>1</th>\n",
       "      <td>afam</td>\n",
       "      <td>2090</td>\n",
       "      <td>50.321574</td>\n",
       "    </tr>\n",
       "    <tr>\n",
       "      <th>2</th>\n",
       "      <td>hispanic</td>\n",
       "      <td>1939</td>\n",
       "      <td>51.353058</td>\n",
       "    </tr>\n",
       "    <tr>\n",
       "      <th>3</th>\n",
       "      <td>other</td>\n",
       "      <td>4726</td>\n",
       "      <td>50.986395</td>\n",
       "    </tr>\n",
       "  </tbody>\n",
       "</table>\n",
       "</div>"
      ],
      "text/plain": [
       "  ethnicity  COUNT(ethnicity)  AVG(academic_score)\n",
       "0     Asian              3043            50.737591\n",
       "1      afam              2090            50.321574\n",
       "2  hispanic              1939            51.353058\n",
       "3     other              4726            50.986395"
      ]
     },
     "execution_count": 5,
     "metadata": {},
     "output_type": "execute_result"
    }
   ],
   "source": [
    "# Finding out the average academic score by ethnicity\n",
    "query2 = '''\n",
    "SELECT ethnicity, COUNT(ethnicity), AVG(academic_score)\n",
    "FROM reports_student_colleges\n",
    "GROUP BY ethnicity\n",
    "'''\n",
    "df = pd.read_sql_query(query2, connection)\n",
    "df\n",
    "# There were only 4 ethnicitites in this dataset: Asian, African American (afam), Hispanic and Other"
   ]
  },
  {
   "cell_type": "markdown",
   "id": "00cd9171",
   "metadata": {},
   "source": [
    "Around the same average academic score persists amongst ethnicities despite a difference in the number of students in each ethnic group"
   ]
  },
  {
   "attachments": {
    "avg%20academic_score%20vs%20ethnicity%20and%20gender.png": {
     "image/png": "[encoded data removed]"
    }
   },
   "cell_type": "markdown",
   "id": "eae2caba",
   "metadata": {},
   "source": [
    "![avg%20academic_score%20vs%20ethnicity%20and%20gender.png](attachment:avg%20academic_score%20vs%20ethnicity%20and%20gender.png)"
   ]
  },
  {
   "cell_type": "markdown",
   "id": "e9fa22b5",
   "metadata": {},
   "source": [
    "###### Wealth"
   ]
  },
  {
   "cell_type": "code",
   "execution_count": 6,
   "id": "087fc919",
   "metadata": {},
   "outputs": [
    {
     "data": {
      "text/html": [
       "<div>\n",
       "<style scoped>\n",
       "    .dataframe tbody tr th:only-of-type {\n",
       "        vertical-align: middle;\n",
       "    }\n",
       "\n",
       "    .dataframe tbody tr th {\n",
       "        vertical-align: top;\n",
       "    }\n",
       "\n",
       "    .dataframe thead th {\n",
       "        text-align: right;\n",
       "    }\n",
       "</style>\n",
       "<table border=\"1\" class=\"dataframe\">\n",
       "  <thead>\n",
       "    <tr style=\"text-align: right;\">\n",
       "      <th></th>\n",
       "      <th>have_home</th>\n",
       "      <th>not_have_home</th>\n",
       "    </tr>\n",
       "  </thead>\n",
       "  <tbody>\n",
       "    <tr>\n",
       "      <th>0</th>\n",
       "      <td>82.34</td>\n",
       "      <td>17.66</td>\n",
       "    </tr>\n",
       "  </tbody>\n",
       "</table>\n",
       "</div>"
      ],
      "text/plain": [
       "   have_home  not_have_home\n",
       "0      82.34          17.66"
      ]
     },
     "execution_count": 6,
     "metadata": {},
     "output_type": "execute_result"
    }
   ],
   "source": [
    "# Percentage of students who have a home and who don't\n",
    "query3 = '''\n",
    "SELECT\n",
    "ROUND(SUM(CASE WHEN home = 'yes' THEN 1\n",
    "ELSE 0 END) * 100.0 /COUNT(id), 2)  AS have_home,\n",
    "ROUND(SUM(CASE WHEN home = 'no' THEN 1\n",
    "ELSE 0 END) * 100.0 /COUNT(id), 2) AS not_have_home\n",
    "FROM reports_student_colleges\n",
    "'''\n",
    "df = pd.read_sql_query(query3, connection)\n",
    "df"
   ]
  },
  {
   "attachments": {
    "avg%20academic_score%20vs%20home.png": {
     "image/png": "[encoded data removed]"
    }
   },
   "cell_type": "markdown",
   "id": "ca913ee1",
   "metadata": {},
   "source": [
    "![avg%20academic_score%20vs%20home.png](attachment:avg%20academic_score%20vs%20home.png)"
   ]
  },
  {
   "cell_type": "markdown",
   "id": "6fa5d1bb",
   "metadata": {},
   "source": [
    "Although most students have homes (82.34%), the average academic score is still very similar in the two groups. It implies that having a home might not play a role in academic performance."
   ]
  },
  {
   "cell_type": "code",
   "execution_count": 7,
   "id": "e64f3987",
   "metadata": {},
   "outputs": [
    {
     "data": {
      "text/html": [
       "<div>\n",
       "<style scoped>\n",
       "    .dataframe tbody tr th:only-of-type {\n",
       "        vertical-align: middle;\n",
       "    }\n",
       "\n",
       "    .dataframe tbody tr th {\n",
       "        vertical-align: top;\n",
       "    }\n",
       "\n",
       "    .dataframe thead th {\n",
       "        text-align: right;\n",
       "    }\n",
       "</style>\n",
       "<table border=\"1\" class=\"dataframe\">\n",
       "  <thead>\n",
       "    <tr style=\"text-align: right;\">\n",
       "      <th></th>\n",
       "      <th>high_income</th>\n",
       "      <th>low_income</th>\n",
       "    </tr>\n",
       "  </thead>\n",
       "  <tbody>\n",
       "    <tr>\n",
       "      <th>0</th>\n",
       "      <td>27.86</td>\n",
       "      <td>72.14</td>\n",
       "    </tr>\n",
       "  </tbody>\n",
       "</table>\n",
       "</div>"
      ],
      "text/plain": [
       "   high_income  low_income\n",
       "0        27.86       72.14"
      ]
     },
     "execution_count": 7,
     "metadata": {},
     "output_type": "execute_result"
    }
   ],
   "source": [
    "# Percentage of students who have low income and who have high income*/\n",
    "query4 = '''\n",
    "SELECT\n",
    "ROUND(SUM(CASE WHEN income = 'high' THEN 1\n",
    "ELSE 0 END) * 100.0 /COUNT(id), 2)  AS high_income,\n",
    "ROUND(SUM(CASE WHEN income = 'low' THEN 1\n",
    "ELSE 0 END) * 100.0 /COUNT(id), 2) AS low_income\n",
    "FROM reports_student_colleges\n",
    "'''\n",
    "df = pd.read_sql_query(query4, connection)\n",
    "df"
   ]
  },
  {
   "cell_type": "markdown",
   "id": "2483cd4e",
   "metadata": {},
   "source": [
    "Most students have low income, but average academic score remains roughly the same."
   ]
  },
  {
   "attachments": {
    "avg%20academic_score%20vs%20income.png": {
     "image/png": "[encoded data removed]"
    }
   },
   "cell_type": "markdown",
   "id": "af27ad39",
   "metadata": {},
   "source": [
    "![avg%20academic_score%20vs%20income.png](attachment:avg%20academic_score%20vs%20income.png)"
   ]
  },
  {
   "cell_type": "code",
   "execution_count": 8,
   "id": "52d38ed3",
   "metadata": {},
   "outputs": [
    {
     "data": {
      "text/html": [
       "<div>\n",
       "<style scoped>\n",
       "    .dataframe tbody tr th:only-of-type {\n",
       "        vertical-align: middle;\n",
       "    }\n",
       "\n",
       "    .dataframe tbody tr th {\n",
       "        vertical-align: top;\n",
       "    }\n",
       "\n",
       "    .dataframe thead th {\n",
       "        text-align: right;\n",
       "    }\n",
       "</style>\n",
       "<table border=\"1\" class=\"dataframe\">\n",
       "  <thead>\n",
       "    <tr style=\"text-align: right;\">\n",
       "      <th></th>\n",
       "      <th>student_tuition</th>\n",
       "      <th>AVG(academic_score)</th>\n",
       "    </tr>\n",
       "  </thead>\n",
       "  <tbody>\n",
       "    <tr>\n",
       "      <th>0</th>\n",
       "      <td>119987</td>\n",
       "      <td>40.439999</td>\n",
       "    </tr>\n",
       "    <tr>\n",
       "      <th>1</th>\n",
       "      <td>119966</td>\n",
       "      <td>55.150002</td>\n",
       "    </tr>\n",
       "    <tr>\n",
       "      <th>2</th>\n",
       "      <td>119935</td>\n",
       "      <td>37.029999</td>\n",
       "    </tr>\n",
       "    <tr>\n",
       "      <th>3</th>\n",
       "      <td>119933</td>\n",
       "      <td>51.290001</td>\n",
       "    </tr>\n",
       "    <tr>\n",
       "      <th>4</th>\n",
       "      <td>119914</td>\n",
       "      <td>48.549999</td>\n",
       "    </tr>\n",
       "  </tbody>\n",
       "</table>\n",
       "</div>"
      ],
      "text/plain": [
       "   student_tuition  AVG(academic_score)\n",
       "0           119987            40.439999\n",
       "1           119966            55.150002\n",
       "2           119935            37.029999\n",
       "3           119933            51.290001\n",
       "4           119914            48.549999"
      ]
     },
     "execution_count": 8,
     "metadata": {},
     "output_type": "execute_result"
    }
   ],
   "source": [
    "# Any relationship between student tuition and performance? \n",
    "query5 = '''\n",
    "SELECT student_tuition, AVG(academic_score)\n",
    "FROM reports_student_colleges\n",
    "GROUP BY student_tuition\n",
    "ORDER BY student_tuition DESC\n",
    "'''\n",
    "df = pd.read_sql_query(query5, connection)\n",
    "df.head()"
   ]
  },
  {
   "cell_type": "markdown",
   "id": "5c9d830c",
   "metadata": {},
   "source": [
    "*NB: Dataset has over 4000 rows, that's why I am displaying only the 1st 5 rows in this report.<br>*\n",
    "In observing the entire output on SQLite, the results appear to be random with no inclination that tuition affects academic score as no apparent trend is observed. However, when I plotted a chart, a somewhat normal distribution was observed with students with either very low or very high tuition performing poorer than students with average tuition."
   ]
  },
  {
   "attachments": {
    "Histogram%20of%20average%20academic_score%20by%20student%20tuition.png": {
     "image/png": "[encoded data removed]"
    }
   },
   "cell_type": "markdown",
   "id": "400ac261",
   "metadata": {},
   "source": [
    "![Histogram%20of%20average%20academic_score%20by%20student%20tuition.png](attachment:Histogram%20of%20average%20academic_score%20by%20student%20tuition.png)"
   ]
  },
  {
   "cell_type": "markdown",
   "id": "a47f9707",
   "metadata": {},
   "source": [
    "###### Location"
   ]
  },
  {
   "cell_type": "code",
   "execution_count": 9,
   "id": "fe642520",
   "metadata": {},
   "outputs": [
    {
     "data": {
      "text/html": [
       "<div>\n",
       "<style scoped>\n",
       "    .dataframe tbody tr th:only-of-type {\n",
       "        vertical-align: middle;\n",
       "    }\n",
       "\n",
       "    .dataframe tbody tr th {\n",
       "        vertical-align: top;\n",
       "    }\n",
       "\n",
       "    .dataframe thead th {\n",
       "        text-align: right;\n",
       "    }\n",
       "</style>\n",
       "<table border=\"1\" class=\"dataframe\">\n",
       "  <thead>\n",
       "    <tr style=\"text-align: right;\">\n",
       "      <th></th>\n",
       "      <th>urban</th>\n",
       "      <th>AVG(academic_score)</th>\n",
       "    </tr>\n",
       "  </thead>\n",
       "  <tbody>\n",
       "    <tr>\n",
       "      <th>0</th>\n",
       "      <td>no</td>\n",
       "      <td>50.932184</td>\n",
       "    </tr>\n",
       "    <tr>\n",
       "      <th>1</th>\n",
       "      <td>yes</td>\n",
       "      <td>50.657495</td>\n",
       "    </tr>\n",
       "  </tbody>\n",
       "</table>\n",
       "</div>"
      ],
      "text/plain": [
       "  urban  AVG(academic_score)\n",
       "0    no            50.932184\n",
       "1   yes            50.657495"
      ]
     },
     "execution_count": 9,
     "metadata": {},
     "output_type": "execute_result"
    }
   ],
   "source": [
    "# urban\n",
    "query6 = '''\n",
    "SELECT urban, AVG(academic_score)\n",
    "FROM reports_student_colleges\n",
    "GROUP BY urban \n",
    "'''\n",
    "df = pd.read_sql_query(query6, connection)\n",
    "df"
   ]
  },
  {
   "cell_type": "markdown",
   "id": "ce85ffb0",
   "metadata": {},
   "source": [
    "Not much difference in student average academic scores irrespective of if the student lives in an urban area or not."
   ]
  },
  {
   "attachments": {
    "count%20of%20students%20per%20%28region%20+%20urbanity%29.png": {
     "image/png": "[encoded data removed]"
    }
   },
   "cell_type": "markdown",
   "id": "15ada171",
   "metadata": {},
   "source": [
    "![count%20of%20students%20per%20%28region%20+%20urbanity%29.png](attachment:count%20of%20students%20per%20%28region%20+%20urbanity%29.png)"
   ]
  },
  {
   "cell_type": "markdown",
   "id": "67b3f89d",
   "metadata": {},
   "source": [
    "<br>Graph shows that most students live in non urban areas in all the three regions in the dataset; with most students living in 'other'"
   ]
  },
  {
   "cell_type": "code",
   "execution_count": 10,
   "id": "f726e63b",
   "metadata": {},
   "outputs": [
    {
     "data": {
      "text/html": [
       "<div>\n",
       "<style scoped>\n",
       "    .dataframe tbody tr th:only-of-type {\n",
       "        vertical-align: middle;\n",
       "    }\n",
       "\n",
       "    .dataframe tbody tr th {\n",
       "        vertical-align: top;\n",
       "    }\n",
       "\n",
       "    .dataframe thead th {\n",
       "        text-align: right;\n",
       "    }\n",
       "</style>\n",
       "<table border=\"1\" class=\"dataframe\">\n",
       "  <thead>\n",
       "    <tr style=\"text-align: right;\">\n",
       "      <th></th>\n",
       "      <th>distance</th>\n",
       "      <th>AVG(academic_score)</th>\n",
       "    </tr>\n",
       "  </thead>\n",
       "  <tbody>\n",
       "    <tr>\n",
       "      <th>0</th>\n",
       "      <td>0.0</td>\n",
       "      <td>54.482206</td>\n",
       "    </tr>\n",
       "    <tr>\n",
       "      <th>1</th>\n",
       "      <td>0.1</td>\n",
       "      <td>51.242104</td>\n",
       "    </tr>\n",
       "    <tr>\n",
       "      <th>2</th>\n",
       "      <td>0.2</td>\n",
       "      <td>49.792537</td>\n",
       "    </tr>\n",
       "    <tr>\n",
       "      <th>3</th>\n",
       "      <td>0.3</td>\n",
       "      <td>50.600000</td>\n",
       "    </tr>\n",
       "    <tr>\n",
       "      <th>4</th>\n",
       "      <td>0.4</td>\n",
       "      <td>50.268310</td>\n",
       "    </tr>\n",
       "  </tbody>\n",
       "</table>\n",
       "</div>"
      ],
      "text/plain": [
       "  distance  AVG(academic_score)\n",
       "0      0.0            54.482206\n",
       "1      0.1            51.242104\n",
       "2      0.2            49.792537\n",
       "3      0.3            50.600000\n",
       "4      0.4            50.268310"
      ]
     },
     "execution_count": 10,
     "metadata": {},
     "output_type": "execute_result"
    }
   ],
   "source": [
    "# distance\n",
    "query7 = ''' \n",
    "SELECT distance, AVG(academic_score)\n",
    "FROM reports_student_colleges\n",
    "GROUP BY distance\n",
    "ORDER BY distance ASC\n",
    "'''\n",
    "df = pd.read_sql_query(query7, connection)\n",
    "df.head() # displaying just top 5 rows to save memory; graph tells better story"
   ]
  },
  {
   "attachments": {
    "avg%20academic_score%20vs%20distance.png": {
     "image/png": "[encoded data removed]"
    }
   },
   "cell_type": "markdown",
   "id": "bba3f456",
   "metadata": {},
   "source": [
    "![avg%20academic_score%20vs%20distance.png](attachment:avg%20academic_score%20vs%20distance.png)"
   ]
  },
  {
   "cell_type": "markdown",
   "id": "da26ccd6",
   "metadata": {},
   "source": [
    "Graph shows that most students live with 50 miles (5x10) to a four year college. The academic scores ranged between 41.9 as the lowest score and 65.51 as the highest. This difference appears to be irrespective of the distance to a college that a student lived. Most students performed similarly to each other."
   ]
  },
  {
   "attachments": {
    "count%20of%20students%20per%20%28ethnicity%20+%20urbanity%29.png": {
     "image/png": "[encoded data removed]"
    }
   },
   "cell_type": "markdown",
   "id": "6aac91bf",
   "metadata": {},
   "source": [
    "It would be interesting to see the proportion of students who lived in urban places by ethnicity.<br>\n",
    "![count%20of%20students%20per%20%28ethnicity%20+%20urbanity%29.png](attachment:count%20of%20students%20per%20%28ethnicity%20+%20urbanity%29.png)"
   ]
  },
  {
   "cell_type": "markdown",
   "id": "d8477562",
   "metadata": {},
   "source": [
    "33.38% of African Americans, 21.05% of Asians, 23.54% of Hispanics and 25.12% of other lived in urban areas "
   ]
  },
  {
   "cell_type": "markdown",
   "id": "46f0f1ed",
   "metadata": {},
   "source": [
    "##### Education"
   ]
  },
  {
   "cell_type": "code",
   "execution_count": 11,
   "id": "dcfe933c",
   "metadata": {},
   "outputs": [
    {
     "data": {
      "text/html": [
       "<div>\n",
       "<style scoped>\n",
       "    .dataframe tbody tr th:only-of-type {\n",
       "        vertical-align: middle;\n",
       "    }\n",
       "\n",
       "    .dataframe tbody tr th {\n",
       "        vertical-align: top;\n",
       "    }\n",
       "\n",
       "    .dataframe thead th {\n",
       "        text-align: right;\n",
       "    }\n",
       "</style>\n",
       "<table border=\"1\" class=\"dataframe\">\n",
       "  <thead>\n",
       "    <tr style=\"text-align: right;\">\n",
       "      <th></th>\n",
       "      <th>mcollege</th>\n",
       "      <th>fcollege</th>\n",
       "      <th>education</th>\n",
       "      <th>academic_score</th>\n",
       "    </tr>\n",
       "  </thead>\n",
       "  <tbody>\n",
       "    <tr>\n",
       "      <th>0</th>\n",
       "      <td>no</td>\n",
       "      <td>no</td>\n",
       "      <td>12</td>\n",
       "      <td>39.150002</td>\n",
       "    </tr>\n",
       "    <tr>\n",
       "      <th>1</th>\n",
       "      <td>yes</td>\n",
       "      <td>yes</td>\n",
       "      <td>12</td>\n",
       "      <td>39.150002</td>\n",
       "    </tr>\n",
       "    <tr>\n",
       "      <th>2</th>\n",
       "      <td>no</td>\n",
       "      <td>no</td>\n",
       "      <td>12</td>\n",
       "      <td>39.150002</td>\n",
       "    </tr>\n",
       "    <tr>\n",
       "      <th>3</th>\n",
       "      <td>yes</td>\n",
       "      <td>yes</td>\n",
       "      <td>12</td>\n",
       "      <td>39.150002</td>\n",
       "    </tr>\n",
       "    <tr>\n",
       "      <th>4</th>\n",
       "      <td>no</td>\n",
       "      <td>no</td>\n",
       "      <td>12</td>\n",
       "      <td>39.150002</td>\n",
       "    </tr>\n",
       "  </tbody>\n",
       "</table>\n",
       "</div>"
      ],
      "text/plain": [
       "  mcollege fcollege  education  academic_score\n",
       "0       no       no         12       39.150002\n",
       "1      yes      yes         12       39.150002\n",
       "2       no       no         12       39.150002\n",
       "3      yes      yes         12       39.150002\n",
       "4       no       no         12       39.150002"
      ]
     },
     "execution_count": 11,
     "metadata": {},
     "output_type": "execute_result"
    }
   ],
   "source": [
    "# mother's education, father's education, years of education \n",
    "query8 = '''\n",
    "SELECT mcollege, fcollege, education, academic_score\n",
    "FROM reports_student_colleges\n",
    "'''\n",
    "df = pd.read_sql_query(query8, connection)\n",
    "df.head() # displaying just top 5 rows to save memory; graph tells better story"
   ]
  },
  {
   "attachments": {
    "Number%20of%20moms%20who%20graduated%20from%20college.png": {
     "image/png": "[encoded data removed]"
    }
   },
   "cell_type": "markdown",
   "id": "d7c12308",
   "metadata": {},
   "source": [
    "![Number%20of%20moms%20who%20graduated%20from%20college.png](attachment:Number%20of%20moms%20who%20graduated%20from%20college.png)"
   ]
  },
  {
   "attachments": {
    "Number%20of%20fathers%20who%20graduated%20from%20college.png": {
     "image/png": "[encoded data removed]"
    }
   },
   "cell_type": "markdown",
   "id": "863534cb",
   "metadata": {},
   "source": [
    "![Number%20of%20fathers%20who%20graduated%20from%20college.png](attachment:Number%20of%20fathers%20who%20graduated%20from%20college.png)"
   ]
  },
  {
   "cell_type": "markdown",
   "id": "47a85d6f",
   "metadata": {},
   "source": [
    "<br>24.23% of dads graduated while 17.91% of moms graduated.<br>"
   ]
  },
  {
   "attachments": {
    "avg%20academic_score%20vs%20parents%20education.png": {
     "image/png": "[encoded data removed]"
    }
   },
   "cell_type": "markdown",
   "id": "4ddcdf9b",
   "metadata": {},
   "source": [
    "![avg%20academic_score%20vs%20parents%20education.png](attachment:avg%20academic_score%20vs%20parents%20education.png)"
   ]
  },
  {
   "cell_type": "markdown",
   "id": "089930ce",
   "metadata": {},
   "source": [
    "The contigency table above shows that the student's average academic score was similar regardless of whether a student's mother or father graduated from college."
   ]
  },
  {
   "attachments": {
    "avg%20academic_score%20vs%20years_of_education.png": {
     "image/png": "[encoded data removed]"
    }
   },
   "cell_type": "markdown",
   "id": "b33de50c",
   "metadata": {},
   "source": [
    "![avg%20academic_score%20vs%20years_of_education.png](attachment:avg%20academic_score%20vs%20years_of_education.png)"
   ]
  },
  {
   "cell_type": "markdown",
   "id": "fa6fe152",
   "metadata": {},
   "source": [
    "The graph above shows that student's academic performance improved with the number of years but declined on the 18th year. It is not clear if the number of years is as a result of repeating classes or pursuing higher education."
   ]
  },
  {
   "cell_type": "markdown",
   "id": "58a77ce6",
   "metadata": {},
   "source": [
    "Education, wealth, location, and physiological qualities were all factors that were considered in determining the academic scores of students.\n",
    "The results showed consistently that students performed similarly and had similar average academic scores. A plausible explanation for this is that most people are average. If the data collection was done right and data is balanced, these results might be a reflection of real life where most people perform similarly to each other with few people performing terribly or extremely well."
   ]
  },
  {
   "cell_type": "markdown",
   "id": "9d952449",
   "metadata": {},
   "source": [
    "I had found it fascinating that the graph of average academic score to student tuition was a bell shape, implying that with very low or very high tuition fees resulted in very poor performance. It would be interesting to look deeper into this and understand the reasons for this trend.\n",
    "\n",
    "It was also interesting to see that most students lived within 50 miles to 4-year universities. Since parent information was included in the dataset, I am assuming that the academic performance data provided were for high school students and not university students. It will not be unusual for university students to live near a university campus but it is intriguing for high school students."
   ]
  }
 ],
 "metadata": {
  "kernelspec": {
   "display_name": "Python 3",
   "language": "python",
   "name": "python3"
  },
  "language_info": {
   "codemirror_mode": {
    "name": "ipython",
    "version": 3
   },
   "file_extension": ".py",
   "mimetype": "text/x-python",
   "name": "python",
   "nbconvert_exporter": "python",
   "pygments_lexer": "ipython3",
   "version": "3.8.8"
  }
 },
 "nbformat": 4,
 "nbformat_minor": 5
}
